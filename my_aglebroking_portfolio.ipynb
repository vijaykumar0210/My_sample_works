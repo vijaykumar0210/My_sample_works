{
 "cells": [
  {
   "cell_type": "code",
   "execution_count": 1,
   "metadata": {},
   "outputs": [
    {
     "name": "stdout",
     "output_type": "stream",
     "text": [
      "Requirement already satisfied: pandas_datareader in e:\\anaconda\\lib\\site-packages (0.9.0)Note: you may need to restart the kernel to use updated packages.\n",
      "\n",
      "Requirement already satisfied: requests>=2.19.0 in e:\\anaconda\\lib\\site-packages (from pandas_datareader) (2.24.0)\n",
      "Requirement already satisfied: lxml in e:\\anaconda\\lib\\site-packages (from pandas_datareader) (4.5.2)\n",
      "Requirement already satisfied: pandas>=0.23 in e:\\anaconda\\lib\\site-packages (from pandas_datareader) (1.0.5)\n",
      "Requirement already satisfied: chardet<4,>=3.0.2 in e:\\anaconda\\lib\\site-packages (from requests>=2.19.0->pandas_datareader) (3.0.4)\n",
      "Requirement already satisfied: urllib3!=1.25.0,!=1.25.1,<1.26,>=1.21.1 in e:\\anaconda\\lib\\site-packages (from requests>=2.19.0->pandas_datareader) (1.25.9)\n",
      "Requirement already satisfied: certifi>=2017.4.17 in e:\\anaconda\\lib\\site-packages (from requests>=2.19.0->pandas_datareader) (2020.6.20)\n",
      "Requirement already satisfied: idna<3,>=2.5 in e:\\anaconda\\lib\\site-packages (from requests>=2.19.0->pandas_datareader) (2.10)\n",
      "Requirement already satisfied: numpy>=1.13.3 in e:\\anaconda\\lib\\site-packages (from pandas>=0.23->pandas_datareader) (1.18.5)\n",
      "Requirement already satisfied: pytz>=2017.2 in e:\\anaconda\\lib\\site-packages (from pandas>=0.23->pandas_datareader) (2020.1)\n",
      "Requirement already satisfied: python-dateutil>=2.6.1 in e:\\anaconda\\lib\\site-packages (from pandas>=0.23->pandas_datareader) (2.8.1)\n",
      "Requirement already satisfied: six>=1.5 in e:\\anaconda\\lib\\site-packages (from python-dateutil>=2.6.1->pandas>=0.23->pandas_datareader) (1.15.0)\n"
     ]
    }
   ],
   "source": [
    "pip install pandas_datareader"
   ]
  },
  {
   "cell_type": "code",
   "execution_count": 2,
   "metadata": {},
   "outputs": [],
   "source": [
    "#portfoliio optimization\n",
    "#import libraries\n",
    "from pandas_datareader import data as web\n",
    "import pandas as pd\n",
    "import numpy as np\n",
    "from datetime import datetime\n",
    "import matplotlib.pyplot as plt\n",
    "plt.style.use('fivethirtyeight')"
   ]
  },
  {
   "cell_type": "code",
   "execution_count": 3,
   "metadata": {},
   "outputs": [],
   "source": [
    "#get the stock symbols/tickers\n",
    "\n",
    "assest = ('HFCL.NS','TATAMOTORS.NS','TATAPOWER.NS','IDEA.NS','ZEEMEDIA.NS')"
   ]
  },
  {
   "cell_type": "code",
   "execution_count": 4,
   "metadata": {},
   "outputs": [],
   "source": [
    "#assign wieghts to the port folio(my port folio)\n",
    "weights = np.array([0.14, 0.04, 0.27, 0.43, 0.12])"
   ]
  },
  {
   "cell_type": "code",
   "execution_count": 5,
   "metadata": {},
   "outputs": [
    {
     "data": {
      "text/plain": [
       "'2021-01-20'"
      ]
     },
     "execution_count": 5,
     "metadata": {},
     "output_type": "execute_result"
    }
   ],
   "source": [
    "#get the data of the stocks\n",
    "startdate = '2020-04-01'\n",
    "enddate = datetime.today().strftime('%Y-%m-%d')\n",
    "enddate"
   ]
  },
  {
   "cell_type": "code",
   "execution_count": 6,
   "metadata": {},
   "outputs": [],
   "source": [
    "#create data frame to store the adj closing prices\n",
    "df = pd.DataFrame()\n",
    "\n",
    "for stock in assest:\n",
    "    df[stock] = web.DataReader(stock,data_source='yahoo',start = startdate,end = enddate)['Adj Close']"
   ]
  },
  {
   "cell_type": "code",
   "execution_count": 7,
   "metadata": {},
   "outputs": [
    {
     "data": {
      "text/html": [
       "<div>\n",
       "<style scoped>\n",
       "    .dataframe tbody tr th:only-of-type {\n",
       "        vertical-align: middle;\n",
       "    }\n",
       "\n",
       "    .dataframe tbody tr th {\n",
       "        vertical-align: top;\n",
       "    }\n",
       "\n",
       "    .dataframe thead th {\n",
       "        text-align: right;\n",
       "    }\n",
       "</style>\n",
       "<table border=\"1\" class=\"dataframe\">\n",
       "  <thead>\n",
       "    <tr style=\"text-align: right;\">\n",
       "      <th></th>\n",
       "      <th>HFCL.NS</th>\n",
       "      <th>TATAMOTORS.NS</th>\n",
       "      <th>TATAPOWER.NS</th>\n",
       "      <th>IDEA.NS</th>\n",
       "      <th>ZEEMEDIA.NS</th>\n",
       "    </tr>\n",
       "    <tr>\n",
       "      <th>Date</th>\n",
       "      <th></th>\n",
       "      <th></th>\n",
       "      <th></th>\n",
       "      <th></th>\n",
       "      <th></th>\n",
       "    </tr>\n",
       "  </thead>\n",
       "  <tbody>\n",
       "    <tr>\n",
       "      <th>2020-04-01</th>\n",
       "      <td>8.850000</td>\n",
       "      <td>67.949997</td>\n",
       "      <td>30.565054</td>\n",
       "      <td>3.05</td>\n",
       "      <td>3.75</td>\n",
       "    </tr>\n",
       "    <tr>\n",
       "      <th>2020-04-03</th>\n",
       "      <td>8.750000</td>\n",
       "      <td>65.300003</td>\n",
       "      <td>29.208761</td>\n",
       "      <td>3.15</td>\n",
       "      <td>3.90</td>\n",
       "    </tr>\n",
       "    <tr>\n",
       "      <th>2020-04-07</th>\n",
       "      <td>9.300000</td>\n",
       "      <td>67.250000</td>\n",
       "      <td>32.599499</td>\n",
       "      <td>3.20</td>\n",
       "      <td>4.05</td>\n",
       "    </tr>\n",
       "    <tr>\n",
       "      <th>2020-04-08</th>\n",
       "      <td>9.550000</td>\n",
       "      <td>67.599998</td>\n",
       "      <td>34.537060</td>\n",
       "      <td>3.20</td>\n",
       "      <td>4.25</td>\n",
       "    </tr>\n",
       "    <tr>\n",
       "      <th>2020-04-09</th>\n",
       "      <td>10.150000</td>\n",
       "      <td>74.599998</td>\n",
       "      <td>35.360523</td>\n",
       "      <td>3.30</td>\n",
       "      <td>4.45</td>\n",
       "    </tr>\n",
       "    <tr>\n",
       "      <th>...</th>\n",
       "      <td>...</td>\n",
       "      <td>...</td>\n",
       "      <td>...</td>\n",
       "      <td>...</td>\n",
       "      <td>...</td>\n",
       "    </tr>\n",
       "    <tr>\n",
       "      <th>2021-01-14</th>\n",
       "      <td>33.250000</td>\n",
       "      <td>245.100006</td>\n",
       "      <td>85.949997</td>\n",
       "      <td>12.30</td>\n",
       "      <td>5.60</td>\n",
       "    </tr>\n",
       "    <tr>\n",
       "      <th>2021-01-15</th>\n",
       "      <td>31.900000</td>\n",
       "      <td>260.299988</td>\n",
       "      <td>85.550003</td>\n",
       "      <td>13.65</td>\n",
       "      <td>5.55</td>\n",
       "    </tr>\n",
       "    <tr>\n",
       "      <th>2021-01-18</th>\n",
       "      <td>30.100000</td>\n",
       "      <td>245.949997</td>\n",
       "      <td>82.099998</td>\n",
       "      <td>13.00</td>\n",
       "      <td>5.35</td>\n",
       "    </tr>\n",
       "    <tr>\n",
       "      <th>2021-01-19</th>\n",
       "      <td>32.799999</td>\n",
       "      <td>258.649994</td>\n",
       "      <td>85.400002</td>\n",
       "      <td>13.30</td>\n",
       "      <td>5.40</td>\n",
       "    </tr>\n",
       "    <tr>\n",
       "      <th>2021-01-20</th>\n",
       "      <td>32.549999</td>\n",
       "      <td>275.549988</td>\n",
       "      <td>84.849998</td>\n",
       "      <td>13.30</td>\n",
       "      <td>5.40</td>\n",
       "    </tr>\n",
       "  </tbody>\n",
       "</table>\n",
       "<p>201 rows × 5 columns</p>\n",
       "</div>"
      ],
      "text/plain": [
       "              HFCL.NS  TATAMOTORS.NS  TATAPOWER.NS  IDEA.NS  ZEEMEDIA.NS\n",
       "Date                                                                    \n",
       "2020-04-01   8.850000      67.949997     30.565054     3.05         3.75\n",
       "2020-04-03   8.750000      65.300003     29.208761     3.15         3.90\n",
       "2020-04-07   9.300000      67.250000     32.599499     3.20         4.05\n",
       "2020-04-08   9.550000      67.599998     34.537060     3.20         4.25\n",
       "2020-04-09  10.150000      74.599998     35.360523     3.30         4.45\n",
       "...               ...            ...           ...      ...          ...\n",
       "2021-01-14  33.250000     245.100006     85.949997    12.30         5.60\n",
       "2021-01-15  31.900000     260.299988     85.550003    13.65         5.55\n",
       "2021-01-18  30.100000     245.949997     82.099998    13.00         5.35\n",
       "2021-01-19  32.799999     258.649994     85.400002    13.30         5.40\n",
       "2021-01-20  32.549999     275.549988     84.849998    13.30         5.40\n",
       "\n",
       "[201 rows x 5 columns]"
      ]
     },
     "execution_count": 7,
     "metadata": {},
     "output_type": "execute_result"
    }
   ],
   "source": [
    "#show df\n",
    "df"
   ]
  },
  {
   "cell_type": "code",
   "execution_count": 8,
   "metadata": {},
   "outputs": [
    {
     "data": {
      "image/png": "[encoded data removed]",
      "text/plain": [
       "<Figure size 432x288 with 1 Axes>"
      ]
     },
     "metadata": {},
     "output_type": "display_data"
    }
   ],
   "source": [
    "#show the port folio\n",
    "title='portfolio adj close price'\n",
    "my_stocks= df\n",
    "for i in my_stocks.columns.values:\n",
    "    plt.plot(my_stocks[i], label = i)\n",
    "    \n",
    "plt.title(title)\n",
    "plt.xlabel('date',fontsize = 1)\n",
    "plt.ylabel('Adj price')\n",
    "plt.legend(my_stocks.columns.values,loc = 'upper left')\n",
    "plt.show()"
   ]
  },
  {
   "cell_type": "code",
   "execution_count": 9,
   "metadata": {},
   "outputs": [
    {
     "data": {
      "text/html": [
       "<div>\n",
       "<style scoped>\n",
       "    .dataframe tbody tr th:only-of-type {\n",
       "        vertical-align: middle;\n",
       "    }\n",
       "\n",
       "    .dataframe tbody tr th {\n",
       "        vertical-align: top;\n",
       "    }\n",
       "\n",
       "    .dataframe thead th {\n",
       "        text-align: right;\n",
       "    }\n",
       "</style>\n",
       "<table border=\"1\" class=\"dataframe\">\n",
       "  <thead>\n",
       "    <tr style=\"text-align: right;\">\n",
       "      <th></th>\n",
       "      <th>HFCL.NS</th>\n",
       "      <th>TATAMOTORS.NS</th>\n",
       "      <th>TATAPOWER.NS</th>\n",
       "      <th>IDEA.NS</th>\n",
       "      <th>ZEEMEDIA.NS</th>\n",
       "    </tr>\n",
       "    <tr>\n",
       "      <th>Date</th>\n",
       "      <th></th>\n",
       "      <th></th>\n",
       "      <th></th>\n",
       "      <th></th>\n",
       "      <th></th>\n",
       "    </tr>\n",
       "  </thead>\n",
       "  <tbody>\n",
       "    <tr>\n",
       "      <th>2020-04-01</th>\n",
       "      <td>NaN</td>\n",
       "      <td>NaN</td>\n",
       "      <td>NaN</td>\n",
       "      <td>NaN</td>\n",
       "      <td>NaN</td>\n",
       "    </tr>\n",
       "    <tr>\n",
       "      <th>2020-04-03</th>\n",
       "      <td>-0.011299</td>\n",
       "      <td>-0.038999</td>\n",
       "      <td>-0.044374</td>\n",
       "      <td>0.032787</td>\n",
       "      <td>0.040000</td>\n",
       "    </tr>\n",
       "    <tr>\n",
       "      <th>2020-04-07</th>\n",
       "      <td>0.062857</td>\n",
       "      <td>0.029862</td>\n",
       "      <td>0.116086</td>\n",
       "      <td>0.015873</td>\n",
       "      <td>0.038462</td>\n",
       "    </tr>\n",
       "    <tr>\n",
       "      <th>2020-04-08</th>\n",
       "      <td>0.026882</td>\n",
       "      <td>0.005204</td>\n",
       "      <td>0.059435</td>\n",
       "      <td>0.000000</td>\n",
       "      <td>0.049383</td>\n",
       "    </tr>\n",
       "    <tr>\n",
       "      <th>2020-04-09</th>\n",
       "      <td>0.062827</td>\n",
       "      <td>0.103550</td>\n",
       "      <td>0.023843</td>\n",
       "      <td>0.031250</td>\n",
       "      <td>0.047059</td>\n",
       "    </tr>\n",
       "    <tr>\n",
       "      <th>...</th>\n",
       "      <td>...</td>\n",
       "      <td>...</td>\n",
       "      <td>...</td>\n",
       "      <td>...</td>\n",
       "      <td>...</td>\n",
       "    </tr>\n",
       "    <tr>\n",
       "      <th>2021-01-14</th>\n",
       "      <td>0.043956</td>\n",
       "      <td>0.010305</td>\n",
       "      <td>0.001165</td>\n",
       "      <td>0.004082</td>\n",
       "      <td>0.000000</td>\n",
       "    </tr>\n",
       "    <tr>\n",
       "      <th>2021-01-15</th>\n",
       "      <td>-0.040602</td>\n",
       "      <td>0.062015</td>\n",
       "      <td>-0.004654</td>\n",
       "      <td>0.109756</td>\n",
       "      <td>-0.008929</td>\n",
       "    </tr>\n",
       "    <tr>\n",
       "      <th>2021-01-18</th>\n",
       "      <td>-0.056426</td>\n",
       "      <td>-0.055129</td>\n",
       "      <td>-0.040327</td>\n",
       "      <td>-0.047619</td>\n",
       "      <td>-0.036036</td>\n",
       "    </tr>\n",
       "    <tr>\n",
       "      <th>2021-01-19</th>\n",
       "      <td>0.089701</td>\n",
       "      <td>0.051636</td>\n",
       "      <td>0.040195</td>\n",
       "      <td>0.023077</td>\n",
       "      <td>0.009346</td>\n",
       "    </tr>\n",
       "    <tr>\n",
       "      <th>2021-01-20</th>\n",
       "      <td>-0.007622</td>\n",
       "      <td>0.065339</td>\n",
       "      <td>-0.006440</td>\n",
       "      <td>0.000000</td>\n",
       "      <td>0.000000</td>\n",
       "    </tr>\n",
       "  </tbody>\n",
       "</table>\n",
       "<p>201 rows × 5 columns</p>\n",
       "</div>"
      ],
      "text/plain": [
       "             HFCL.NS  TATAMOTORS.NS  TATAPOWER.NS   IDEA.NS  ZEEMEDIA.NS\n",
       "Date                                                                    \n",
       "2020-04-01       NaN            NaN           NaN       NaN          NaN\n",
       "2020-04-03 -0.011299      -0.038999     -0.044374  0.032787     0.040000\n",
       "2020-04-07  0.062857       0.029862      0.116086  0.015873     0.038462\n",
       "2020-04-08  0.026882       0.005204      0.059435  0.000000     0.049383\n",
       "2020-04-09  0.062827       0.103550      0.023843  0.031250     0.047059\n",
       "...              ...            ...           ...       ...          ...\n",
       "2021-01-14  0.043956       0.010305      0.001165  0.004082     0.000000\n",
       "2021-01-15 -0.040602       0.062015     -0.004654  0.109756    -0.008929\n",
       "2021-01-18 -0.056426      -0.055129     -0.040327 -0.047619    -0.036036\n",
       "2021-01-19  0.089701       0.051636      0.040195  0.023077     0.009346\n",
       "2021-01-20 -0.007622       0.065339     -0.006440  0.000000     0.000000\n",
       "\n",
       "[201 rows x 5 columns]"
      ]
     },
     "execution_count": 9,
     "metadata": {},
     "output_type": "execute_result"
    }
   ],
   "source": [
    "# show returns\n",
    "returns = df.pct_change()\n",
    "returns"
   ]
  },
  {
   "cell_type": "code",
   "execution_count": 10,
   "metadata": {},
   "outputs": [],
   "source": [
    "# cov matrix\n",
    "cov_matrix = returns.cov()*199"
   ]
  },
  {
   "cell_type": "code",
   "execution_count": 11,
   "metadata": {},
   "outputs": [
    {
     "data": {
      "text/html": [
       "<style  type=\"text/css\" >\n",
       "    #T_b58ffd03_5aec_11eb_b73a_dc71966c28bfrow0_col0 {\n",
       "            background-color:  #1f988b;\n",
       "            color:  #000000;\n",
       "        }    #T_b58ffd03_5aec_11eb_b73a_dc71966c28bfrow0_col1 {\n",
       "            background-color:  #482878;\n",
       "            color:  #f1f1f1;\n",
       "        }    #T_b58ffd03_5aec_11eb_b73a_dc71966c28bfrow0_col2 {\n",
       "            background-color:  #481f70;\n",
       "            color:  #f1f1f1;\n",
       "        }    #T_b58ffd03_5aec_11eb_b73a_dc71966c28bfrow0_col3 {\n",
       "            background-color:  #404588;\n",
       "            color:  #f1f1f1;\n",
       "        }    #T_b58ffd03_5aec_11eb_b73a_dc71966c28bfrow0_col4 {\n",
       "            background-color:  #481668;\n",
       "            color:  #f1f1f1;\n",
       "        }    #T_b58ffd03_5aec_11eb_b73a_dc71966c28bfrow1_col0 {\n",
       "            background-color:  #482878;\n",
       "            color:  #f1f1f1;\n",
       "        }    #T_b58ffd03_5aec_11eb_b73a_dc71966c28bfrow1_col1 {\n",
       "            background-color:  #2d708e;\n",
       "            color:  #f1f1f1;\n",
       "        }    #T_b58ffd03_5aec_11eb_b73a_dc71966c28bfrow1_col2 {\n",
       "            background-color:  #482173;\n",
       "            color:  #f1f1f1;\n",
       "        }    #T_b58ffd03_5aec_11eb_b73a_dc71966c28bfrow1_col3 {\n",
       "            background-color:  #443983;\n",
       "            color:  #f1f1f1;\n",
       "        }    #T_b58ffd03_5aec_11eb_b73a_dc71966c28bfrow1_col4 {\n",
       "            background-color:  #460a5d;\n",
       "            color:  #f1f1f1;\n",
       "        }    #T_b58ffd03_5aec_11eb_b73a_dc71966c28bfrow2_col0 {\n",
       "            background-color:  #481f70;\n",
       "            color:  #f1f1f1;\n",
       "        }    #T_b58ffd03_5aec_11eb_b73a_dc71966c28bfrow2_col1 {\n",
       "            background-color:  #482173;\n",
       "            color:  #f1f1f1;\n",
       "        }    #T_b58ffd03_5aec_11eb_b73a_dc71966c28bfrow2_col2 {\n",
       "            background-color:  #3f4889;\n",
       "            color:  #f1f1f1;\n",
       "        }    #T_b58ffd03_5aec_11eb_b73a_dc71966c28bfrow2_col3 {\n",
       "            background-color:  #481a6c;\n",
       "            color:  #f1f1f1;\n",
       "        }    #T_b58ffd03_5aec_11eb_b73a_dc71966c28bfrow2_col4 {\n",
       "            background-color:  #440154;\n",
       "            color:  #f1f1f1;\n",
       "        }    #T_b58ffd03_5aec_11eb_b73a_dc71966c28bfrow3_col0 {\n",
       "            background-color:  #404588;\n",
       "            color:  #f1f1f1;\n",
       "        }    #T_b58ffd03_5aec_11eb_b73a_dc71966c28bfrow3_col1 {\n",
       "            background-color:  #443983;\n",
       "            color:  #f1f1f1;\n",
       "        }    #T_b58ffd03_5aec_11eb_b73a_dc71966c28bfrow3_col2 {\n",
       "            background-color:  #481a6c;\n",
       "            color:  #f1f1f1;\n",
       "        }    #T_b58ffd03_5aec_11eb_b73a_dc71966c28bfrow3_col3 {\n",
       "            background-color:  #fde725;\n",
       "            color:  #000000;\n",
       "        }    #T_b58ffd03_5aec_11eb_b73a_dc71966c28bfrow3_col4 {\n",
       "            background-color:  #481f70;\n",
       "            color:  #f1f1f1;\n",
       "        }    #T_b58ffd03_5aec_11eb_b73a_dc71966c28bfrow4_col0 {\n",
       "            background-color:  #481668;\n",
       "            color:  #f1f1f1;\n",
       "        }    #T_b58ffd03_5aec_11eb_b73a_dc71966c28bfrow4_col1 {\n",
       "            background-color:  #460a5d;\n",
       "            color:  #f1f1f1;\n",
       "        }    #T_b58ffd03_5aec_11eb_b73a_dc71966c28bfrow4_col2 {\n",
       "            background-color:  #440154;\n",
       "            color:  #f1f1f1;\n",
       "        }    #T_b58ffd03_5aec_11eb_b73a_dc71966c28bfrow4_col3 {\n",
       "            background-color:  #481f70;\n",
       "            color:  #f1f1f1;\n",
       "        }    #T_b58ffd03_5aec_11eb_b73a_dc71966c28bfrow4_col4 {\n",
       "            background-color:  #365d8d;\n",
       "            color:  #f1f1f1;\n",
       "        }</style><table id=\"T_b58ffd03_5aec_11eb_b73a_dc71966c28bf\" ><thead>    <tr>        <th class=\"blank level0\" ></th>        <th class=\"col_heading level0 col0\" >HFCL.NS</th>        <th class=\"col_heading level0 col1\" >TATAMOTORS.NS</th>        <th class=\"col_heading level0 col2\" >TATAPOWER.NS</th>        <th class=\"col_heading level0 col3\" >IDEA.NS</th>        <th class=\"col_heading level0 col4\" >ZEEMEDIA.NS</th>    </tr></thead><tbody>\n",
       "                <tr>\n",
       "                        <th id=\"T_b58ffd03_5aec_11eb_b73a_dc71966c28bflevel0_row0\" class=\"row_heading level0 row0\" >HFCL.NS</th>\n",
       "                        <td id=\"T_b58ffd03_5aec_11eb_b73a_dc71966c28bfrow0_col0\" class=\"data row0 col0\" >0.37</td>\n",
       "                        <td id=\"T_b58ffd03_5aec_11eb_b73a_dc71966c28bfrow0_col1\" class=\"data row0 col1\" >0.09</td>\n",
       "                        <td id=\"T_b58ffd03_5aec_11eb_b73a_dc71966c28bfrow0_col2\" class=\"data row0 col2\" >0.07</td>\n",
       "                        <td id=\"T_b58ffd03_5aec_11eb_b73a_dc71966c28bfrow0_col3\" class=\"data row0 col3\" >0.15</td>\n",
       "                        <td id=\"T_b58ffd03_5aec_11eb_b73a_dc71966c28bfrow0_col4\" class=\"data row0 col4\" >0.06</td>\n",
       "            </tr>\n",
       "            <tr>\n",
       "                        <th id=\"T_b58ffd03_5aec_11eb_b73a_dc71966c28bflevel0_row1\" class=\"row_heading level0 row1\" >TATAMOTORS.NS</th>\n",
       "                        <td id=\"T_b58ffd03_5aec_11eb_b73a_dc71966c28bfrow1_col0\" class=\"data row1 col0\" >0.09</td>\n",
       "                        <td id=\"T_b58ffd03_5aec_11eb_b73a_dc71966c28bfrow1_col1\" class=\"data row1 col1\" >0.26</td>\n",
       "                        <td id=\"T_b58ffd03_5aec_11eb_b73a_dc71966c28bfrow1_col2\" class=\"data row1 col2\" >0.08</td>\n",
       "                        <td id=\"T_b58ffd03_5aec_11eb_b73a_dc71966c28bfrow1_col3\" class=\"data row1 col3\" >0.13</td>\n",
       "                        <td id=\"T_b58ffd03_5aec_11eb_b73a_dc71966c28bfrow1_col4\" class=\"data row1 col4\" >0.04</td>\n",
       "            </tr>\n",
       "            <tr>\n",
       "                        <th id=\"T_b58ffd03_5aec_11eb_b73a_dc71966c28bflevel0_row2\" class=\"row_heading level0 row2\" >TATAPOWER.NS</th>\n",
       "                        <td id=\"T_b58ffd03_5aec_11eb_b73a_dc71966c28bfrow2_col0\" class=\"data row2 col0\" >0.07</td>\n",
       "                        <td id=\"T_b58ffd03_5aec_11eb_b73a_dc71966c28bfrow2_col1\" class=\"data row2 col1\" >0.08</td>\n",
       "                        <td id=\"T_b58ffd03_5aec_11eb_b73a_dc71966c28bfrow2_col2\" class=\"data row2 col2\" >0.16</td>\n",
       "                        <td id=\"T_b58ffd03_5aec_11eb_b73a_dc71966c28bfrow2_col3\" class=\"data row2 col3\" >0.06</td>\n",
       "                        <td id=\"T_b58ffd03_5aec_11eb_b73a_dc71966c28bfrow2_col4\" class=\"data row2 col4\" >0.02</td>\n",
       "            </tr>\n",
       "            <tr>\n",
       "                        <th id=\"T_b58ffd03_5aec_11eb_b73a_dc71966c28bflevel0_row3\" class=\"row_heading level0 row3\" >IDEA.NS</th>\n",
       "                        <td id=\"T_b58ffd03_5aec_11eb_b73a_dc71966c28bfrow3_col0\" class=\"data row3 col0\" >0.15</td>\n",
       "                        <td id=\"T_b58ffd03_5aec_11eb_b73a_dc71966c28bfrow3_col1\" class=\"data row3 col1\" >0.13</td>\n",
       "                        <td id=\"T_b58ffd03_5aec_11eb_b73a_dc71966c28bfrow3_col2\" class=\"data row3 col2\" >0.06</td>\n",
       "                        <td id=\"T_b58ffd03_5aec_11eb_b73a_dc71966c28bfrow3_col3\" class=\"data row3 col3\" >0.68</td>\n",
       "                        <td id=\"T_b58ffd03_5aec_11eb_b73a_dc71966c28bfrow3_col4\" class=\"data row3 col4\" >0.08</td>\n",
       "            </tr>\n",
       "            <tr>\n",
       "                        <th id=\"T_b58ffd03_5aec_11eb_b73a_dc71966c28bflevel0_row4\" class=\"row_heading level0 row4\" >ZEEMEDIA.NS</th>\n",
       "                        <td id=\"T_b58ffd03_5aec_11eb_b73a_dc71966c28bfrow4_col0\" class=\"data row4 col0\" >0.06</td>\n",
       "                        <td id=\"T_b58ffd03_5aec_11eb_b73a_dc71966c28bfrow4_col1\" class=\"data row4 col1\" >0.04</td>\n",
       "                        <td id=\"T_b58ffd03_5aec_11eb_b73a_dc71966c28bfrow4_col2\" class=\"data row4 col2\" >0.02</td>\n",
       "                        <td id=\"T_b58ffd03_5aec_11eb_b73a_dc71966c28bfrow4_col3\" class=\"data row4 col3\" >0.08</td>\n",
       "                        <td id=\"T_b58ffd03_5aec_11eb_b73a_dc71966c28bfrow4_col4\" class=\"data row4 col4\" >0.21</td>\n",
       "            </tr>\n",
       "    </tbody></table>"
      ],
      "text/plain": [
       "<pandas.io.formats.style.Styler at 0x166cda90ee0>"
      ]
     },
     "execution_count": 11,
     "metadata": {},
     "output_type": "execute_result"
    }
   ],
   "source": [
    "cov_matrix.style.background_gradient(cmap='viridis', axis=None).set_precision(2)"
   ]
  },
  {
   "cell_type": "code",
   "execution_count": 12,
   "metadata": {},
   "outputs": [
    {
     "data": {
      "text/plain": [
       "0.20579218073880676"
      ]
     },
     "execution_count": 12,
     "metadata": {},
     "output_type": "execute_result"
    }
   ],
   "source": [
    "#calculte the port folio varience\n",
    "port_var = np.dot(weights.T,np.dot(cov_matrix,weights))\n",
    "port_var"
   ]
  },
  {
   "cell_type": "code",
   "execution_count": 13,
   "metadata": {},
   "outputs": [
    {
     "data": {
      "text/plain": [
       "0.45364323067671447"
      ]
     },
     "execution_count": 13,
     "metadata": {},
     "output_type": "execute_result"
    }
   ],
   "source": [
    "#POrt VOlatility\n",
    "port_vol = np.sqrt(port_var)\n",
    "port_vol"
   ]
  },
  {
   "cell_type": "code",
   "execution_count": 14,
   "metadata": {},
   "outputs": [
    {
     "data": {
      "text/plain": [
       "1.3916411064255947"
      ]
     },
     "execution_count": 14,
     "metadata": {},
     "output_type": "execute_result"
    }
   ],
   "source": [
    "#calculate port folio return\n",
    "pfanrt = np.sum(returns.mean()*weights)*199\n",
    "pfanrt"
   ]
  },
  {
   "cell_type": "code",
   "execution_count": 15,
   "metadata": {},
   "outputs": [
    {
     "name": "stdout",
     "output_type": "stream",
     "text": [
      "expected retuns : 139.0%\n",
      "expected risk : 45.0%\n",
      "expected var : 21.0%\n"
     ]
    }
   ],
   "source": [
    "# expected retuns ,volatilty,var\n",
    "percent_var = str(round(port_var,2)*100)+'%'\n",
    "percent_vol = str(round(port_vol,2)*100)+'%'\n",
    "percent_ret = str(round(pfanrt,2)*100)+'%'\n",
    "\n",
    "print('expected retuns : '+ percent_ret)\n",
    "print('expected risk : '+ percent_vol)\n",
    "print('expected var : '+ percent_var)"
   ]
  },
  {
   "cell_type": "code",
   "execution_count": 16,
   "metadata": {},
   "outputs": [
    {
     "data": {
      "image/png": "[encoded data removed]",
      "text/plain": [
       "<Figure size 864x864 with 2 Axes>"
      ]
     },
     "metadata": {},
     "output_type": "display_data"
    },
    {
     "name": "stdout",
     "output_type": "stream",
     "text": [
      "Max Sharpe Ratio is 65.58426073608148\n",
      "Max Sharpe Ratio is in location 2734\n"
     ]
    }
   ],
   "source": [
    "np.random.seed(42)\n",
    "num_ports = 6000\n",
    "all_weights = np.zeros((num_ports, len(df.columns)))\n",
    "ret_arr = np.zeros(num_ports)\n",
    "vol_arr = np.zeros(num_ports)\n",
    "sharpe_arr = np.zeros(num_ports)\n",
    "\n",
    "for x in range(num_ports):\n",
    "    # Weights\n",
    "    weights = np.array(np.random.random(5))\n",
    "    weights = weights/np.sum(weights)\n",
    "    \n",
    "    # Save weights\n",
    "    all_weights[x,:] = weights\n",
    "    \n",
    "    # Expected return\n",
    "    ret_arr[x] = np.sum( (df.mean() * weights * 199))\n",
    "    \n",
    "    # Expected volatility\n",
    "    vol_arr[x] = np.sqrt(np.dot(weights.T, np.dot(df.cov()*199, weights)))\n",
    "    \n",
    "    # Sharpe Ratio\n",
    "    sharpe_arr[x] = ret_arr[x]/vol_arr[x]\n",
    "    \n",
    "    \n",
    "plt.figure(figsize=(12,12))\n",
    "plt.scatter(vol_arr, ret_arr, c=sharpe_arr, cmap='viridis')\n",
    "plt.colorbar(label='Sharpe Ratio')\n",
    "plt.xlabel('Volatility')\n",
    "plt.ylabel('Return')\n",
    "max_sr_ret = ret_arr[sharpe_arr.argmax()]\n",
    "max_sr_vol = vol_arr[sharpe_arr.argmax()]\n",
    "plt.scatter(max_sr_vol, max_sr_ret,c='red', s=50) # red dot\n",
    "plt.show()\n",
    "print('Max Sharpe Ratio is {}' .format(sharpe_arr.max()))\n",
    "print('Max Sharpe Ratio is in location {}' .format(sharpe_arr.argmax()))      "
   ]
  },
  {
   "cell_type": "code",
   "execution_count": 17,
   "metadata": {},
   "outputs": [
    {
     "data": {
      "text/plain": [
       "array([0.10660295, 0.01687102, 0.05847799, 0.1862156 , 0.63183245])"
      ]
     },
     "execution_count": 17,
     "metadata": {},
     "output_type": "execute_result"
    }
   ],
   "source": [
    "all_weights[2734]"
   ]
  },
  {
   "cell_type": "code",
   "execution_count": 18,
   "metadata": {},
   "outputs": [],
   "source": [
    "adj_wieghts= np.array([0.10660295, 0.01687102, 0.05847799, 0.1862156 , 0.63183245])"
   ]
  },
  {
   "cell_type": "code",
   "execution_count": 19,
   "metadata": {},
   "outputs": [],
   "source": [
    "port_var = np.dot(adj_wieghts.T,np.dot(cov_matrix,adj_wieghts))\n",
    "port_vol = np.sqrt(port_var)\n",
    "pfanrt = np.sum(returns.mean()*adj_wieghts)*199"
   ]
  },
  {
   "cell_type": "code",
   "execution_count": 20,
   "metadata": {},
   "outputs": [
    {
     "name": "stdout",
     "output_type": "stream",
     "text": [
      "adj_portfolio_var :  0.15001747825614847\n",
      "adj_portfolio_vol :  0.3873208982951326\n",
      "adj_portfolio_return :  0.8762201248827374\n"
     ]
    }
   ],
   "source": [
    "print('adj_portfolio_var : ',port_var)\n",
    "print('adj_portfolio_vol : ',port_vol)\n",
    "print('adj_portfolio_return : ',pfanrt)"
   ]
  },
  {
   "cell_type": "code",
   "execution_count": null,
   "metadata": {},
   "outputs": [],
   "source": []
  }
 ],
 "metadata": {
  "kernelspec": {
   "display_name": "Python 3",
   "language": "python",
   "name": "python3"
  },
  "language_info": {
   "codemirror_mode": {
    "name": "ipython",
    "version": 3
   },
   "file_extension": ".py",
   "mimetype": "text/x-python",
   "name": "python",
   "nbconvert_exporter": "python",
   "pygments_lexer": "ipython3",
   "version": "3.8.3"
  }
 },
 "nbformat": 4,
 "nbformat_minor": 4
}
